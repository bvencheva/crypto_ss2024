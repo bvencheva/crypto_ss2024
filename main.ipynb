{
 "cells": [
  {
   "cell_type": "code",
   "execution_count": 1,
   "id": "999c21b6-a96f-499c-a8aa-b078ea2047a5",
   "metadata": {},
   "outputs": [
    {
     "name": "stdout",
     "output_type": "stream",
     "text": [
      "Intel MKL WARNING: Support of Intel(R) Streaming SIMD Extensions 4.2 (Intel(R) SSE4.2) enabled only processors has been deprecated. Intel oneAPI Math Kernel Library 2025.0 will require Intel(R) Advanced Vector Extensions (Intel(R) AVX) instructions.\n",
      "Intel MKL WARNING: Support of Intel(R) Streaming SIMD Extensions 4.2 (Intel(R) SSE4.2) enabled only processors has been deprecated. Intel oneAPI Math Kernel Library 2025.0 will require Intel(R) Advanced Vector Extensions (Intel(R) AVX) instructions.\n"
     ]
    }
   ],
   "source": [
    "import numpy as np\n",
    "import pandas as pd\n",
    "import os\n",
    "import pickle\n",
    "\n",
    "\n",
    "from importlib.metadata import version \n",
    "version('statsmodels')\n",
    "\n",
    "import ipywidgets as widgets\n",
    "from ipywidgets import interact, interact_manual\n",
    "import plotly.express as px\n",
    "from plotly.subplots import make_subplots\n",
    "import plotly.graph_objs as go\n",
    "from datetime import datetime\n",
    "\n",
    "from load_data import *\n",
    "from features import *\n",
    "from cv import *\n",
    "from post_process import *\n",
    "\n",
    "# os.environ['MKL_SERVICE_FORCE_INTEL'] = '1'\n",
    "\n",
    "FREQ = [5,10,15]\n",
    "\n",
    "import warnings\n",
    "warnings.filterwarnings('ignore')\n",
    "\n",
    "# from importlib.metadata import version \n",
    "# version('statsmodels')\n",
    "\n",
    "\n"
   ]
  },
  {
   "cell_type": "markdown",
   "id": "66b1df0b-3527-445c-8dc0-5fd2db68c3f0",
   "metadata": {},
   "source": [
    "## I. Load historical data + resampling"
   ]
  },
  {
   "cell_type": "code",
   "execution_count": 2,
   "id": "ccbd039c-d959-4196-b4b8-a7935d83b767",
   "metadata": {},
   "outputs": [
    {
     "name": "stdout",
     "output_type": "stream",
     "text": [
      "56\n"
     ]
    },
    {
     "data": {
      "text/html": [
       "<div>\n",
       "<style scoped>\n",
       "    .dataframe tbody tr th:only-of-type {\n",
       "        vertical-align: middle;\n",
       "    }\n",
       "\n",
       "    .dataframe tbody tr th {\n",
       "        vertical-align: top;\n",
       "    }\n",
       "\n",
       "    .dataframe thead th {\n",
       "        text-align: right;\n",
       "    }\n",
       "</style>\n",
       "<table border=\"1\" class=\"dataframe\">\n",
       "  <thead>\n",
       "    <tr style=\"text-align: right;\">\n",
       "      <th></th>\n",
       "      <th>open</th>\n",
       "      <th>high</th>\n",
       "      <th>low</th>\n",
       "      <th>close</th>\n",
       "      <th>volume</th>\n",
       "      <th>close%</th>\n",
       "      <th>volume%</th>\n",
       "    </tr>\n",
       "    <tr>\n",
       "      <th>timestamp</th>\n",
       "      <th></th>\n",
       "      <th></th>\n",
       "      <th></th>\n",
       "      <th></th>\n",
       "      <th></th>\n",
       "      <th></th>\n",
       "      <th></th>\n",
       "    </tr>\n",
       "  </thead>\n",
       "  <tbody>\n",
       "    <tr>\n",
       "      <th>2023-06-09 12:30:00</th>\n",
       "      <td>0.3183</td>\n",
       "      <td>0.3240</td>\n",
       "      <td>0.3183</td>\n",
       "      <td>0.3211</td>\n",
       "      <td>12736328.5</td>\n",
       "      <td>0.008797</td>\n",
       "      <td>NaN</td>\n",
       "    </tr>\n",
       "    <tr>\n",
       "      <th>2023-06-09 12:45:00</th>\n",
       "      <td>0.3217</td>\n",
       "      <td>0.3223</td>\n",
       "      <td>0.3201</td>\n",
       "      <td>0.3216</td>\n",
       "      <td>2910014.5</td>\n",
       "      <td>-0.000311</td>\n",
       "      <td>-0.771519</td>\n",
       "    </tr>\n",
       "    <tr>\n",
       "      <th>2023-06-09 13:00:00</th>\n",
       "      <td>0.3213</td>\n",
       "      <td>0.3218</td>\n",
       "      <td>0.3195</td>\n",
       "      <td>0.3213</td>\n",
       "      <td>3060284.6</td>\n",
       "      <td>0.000000</td>\n",
       "      <td>0.051639</td>\n",
       "    </tr>\n",
       "    <tr>\n",
       "      <th>2023-06-09 13:15:00</th>\n",
       "      <td>0.3211</td>\n",
       "      <td>0.3217</td>\n",
       "      <td>0.3192</td>\n",
       "      <td>0.3203</td>\n",
       "      <td>2497423.3</td>\n",
       "      <td>-0.002491</td>\n",
       "      <td>-0.183924</td>\n",
       "    </tr>\n",
       "    <tr>\n",
       "      <th>2023-06-09 13:30:00</th>\n",
       "      <td>0.3205</td>\n",
       "      <td>0.3218</td>\n",
       "      <td>0.3197</td>\n",
       "      <td>0.3201</td>\n",
       "      <td>1327505.6</td>\n",
       "      <td>-0.001248</td>\n",
       "      <td>-0.468450</td>\n",
       "    </tr>\n",
       "  </tbody>\n",
       "</table>\n",
       "</div>"
      ],
      "text/plain": [
       "                       open    high     low   close      volume    close%  \\\n",
       "timestamp                                                                   \n",
       "2023-06-09 12:30:00  0.3183  0.3240  0.3183  0.3211  12736328.5  0.008797   \n",
       "2023-06-09 12:45:00  0.3217  0.3223  0.3201  0.3216   2910014.5 -0.000311   \n",
       "2023-06-09 13:00:00  0.3213  0.3218  0.3195  0.3213   3060284.6  0.000000   \n",
       "2023-06-09 13:15:00  0.3211  0.3217  0.3192  0.3203   2497423.3 -0.002491   \n",
       "2023-06-09 13:30:00  0.3205  0.3218  0.3197  0.3201   1327505.6 -0.001248   \n",
       "\n",
       "                      volume%  \n",
       "timestamp                      \n",
       "2023-06-09 12:30:00       NaN  \n",
       "2023-06-09 12:45:00 -0.771519  \n",
       "2023-06-09 13:00:00  0.051639  \n",
       "2023-06-09 13:15:00 -0.183924  \n",
       "2023-06-09 13:30:00 -0.468450  "
      ]
     },
     "execution_count": 2,
     "metadata": {},
     "output_type": "execute_result"
    }
   ],
   "source": [
    "reload = False\n",
    "\n",
    "if reload is True:\n",
    "    crypto_data = LoadTransformCryptoData()\n",
    "\n",
    "    crypto_raw = crypto_data.raw_data.copy()\n",
    "    crypto_resampled = crypto_data.resampled_data.copy()\n",
    "\n",
    "    with open('output/crypto_raw.pickle', 'wb') as handle:\n",
    "        pickle.dump(crypto_raw, handle, protocol=pickle.HIGHEST_PROTOCOL)\n",
    "\n",
    "    with open('output/crypto_resampled.pickle', 'wb') as handle:\n",
    "        pickle.dump(crypto_resampled, handle, protocol=pickle.HIGHEST_PROTOCOL)\n",
    "\n",
    "else:\n",
    "    with open('output/crypto_raw.pickle', 'rb') as handle:\n",
    "        crypto_raw = pickle.load(handle)\n",
    "    \n",
    "    with open('output/crypto_resampled.pickle', 'rb') as handle:\n",
    "        crypto_resampled = pickle.load(handle)\n",
    "\n",
    "CRYPTOS = list(crypto_raw.keys())\n",
    "print(len(CRYPTOS))\n",
    "freq = 15\n",
    "crypto_resampled[freq]['ADA'].head()"
   ]
  },
  {
   "cell_type": "markdown",
   "id": "69c1cfa5-c463-4b23-92dc-3fd2967dbc07",
   "metadata": {},
   "source": [
    "### Cryptos correlations"
   ]
  },
  {
   "cell_type": "code",
   "execution_count": 3,
   "id": "6a817d82-f75b-4ba0-8280-fbfb52a47379",
   "metadata": {},
   "outputs": [],
   "source": [
    "for param in ['close%','close']:\n",
    "    close_all = None\n",
    "    for crypto in CRYPTOS:\n",
    "        _df = crypto_resampled[freq][crypto][[param]].rename(columns = {param:crypto})\n",
    "        close_all = _df if close_all is None else close_all.merge(_df,left_index=True,right_index=True)\n",
    "        \n",
    "    close_all[['BTC','ETH','ADA'] + [i for i in close_all.columns if i not in ['BTC','ETH','ADA']]].corr().to_excel(f'output/{param}_corr_cryptos.xlsx')"
   ]
  },
  {
   "cell_type": "markdown",
   "id": "40446fa5-d508-4410-9d22-6904e811bf69",
   "metadata": {},
   "source": [
    "## II. Feature engineering & selection"
   ]
  },
  {
   "cell_type": "code",
   "execution_count": 4,
   "id": "3b9e64aa-a52e-4341-996e-c54198ff5508",
   "metadata": {},
   "outputs": [],
   "source": [
    "selected_freq = 15 #select freq\n",
    "working_dict = crypto_resampled[selected_freq].copy()\n",
    "\n",
    "features = FeatureEngineering(_dict=working_dict)\n",
    "features.run()\n",
    "\n",
    "ENDOG = 'close%'"
   ]
  },
  {
   "cell_type": "markdown",
   "id": "0707e655-34a2-433f-8bff-3e3328970a0d",
   "metadata": {},
   "source": [
    "### a. correlations"
   ]
  },
  {
   "cell_type": "code",
   "execution_count": 5,
   "id": "162a3d50-3857-4ead-bd8a-6727f22b8780",
   "metadata": {},
   "outputs": [
    {
     "data": {
      "application/vnd.jupyter.widget-view+json": {
       "model_id": "ab23f156cd694c5ab074f8a42b8be69e",
       "version_major": 2,
       "version_minor": 0
      },
      "text/plain": [
       "interactive(children=(Dropdown(description='crypto', options=('BTC', 'ETH', 'ADA', 'DASH'), value='BTC'), Outp…"
      ]
     },
     "metadata": {},
     "output_type": "display_data"
    }
   ],
   "source": [
    "@interact\n",
    "def show_corr(crypto = ['BTC','ETH','ADA','DASH']):\n",
    "    #split columns\n",
    "    df = features.crypto_modelling[crypto].copy()\n",
    "    \n",
    "    BINARY_COLUMNS = list(df.columns[df.isin([0,1]).all()])\n",
    "    EXOG_NUMERICAL= [i for i in df.columns if i not in BINARY_COLUMNS and i!= ENDOG]\n",
    "    print(len(EXOG_NUMERICAL+BINARY_COLUMNS))\n",
    "    \n",
    "    order_feature_corr = list(abs(df[[ENDOG]+EXOG_NUMERICAL].drop(columns = ['month','day','hour']).corr()).sort_values('close%',ascending=False).index)\n",
    "    corr = df[order_feature_corr].corr()\n",
    "    corr.to_excel(f'output/feature_corr_{crypto}.xlsx')\n",
    "\n",
    "    return corr.head()\n",
    "    "
   ]
  },
  {
   "cell_type": "markdown",
   "id": "d35826bf-3c72-4b3a-88c5-96dd7f698217",
   "metadata": {},
   "source": [
    "### b. VIF"
   ]
  },
  {
   "cell_type": "code",
   "execution_count": 6,
   "id": "e817330c-461c-411e-a5b4-7e425a6310e6",
   "metadata": {},
   "outputs": [
    {
     "name": "stdout",
     "output_type": "stream",
     "text": [
      "Total # vif iterations: 23\n",
      "Final selected columns: ['rol_std_close_20', 'month', 'HLC', 'rol_std_close_3', 'rol_mean_volume_20', 'rol_mean_volume_10', 'day', 'hour', 'rol_mean_volume_5', 'year', 'signal_line', 'rol_mean_volume_3', 'day_of_week_Sunday', 'day_of_week_Saturday', 'day_of_week_Monday', 'day_of_week_Thursday', 'day_of_week_Wednesday', 'day_of_week_Tuesday', 'volume%', 'ema_mean_3', 'close%_1lags', 'close%_3lags', 'close%_2lags', 'close%_5lags', 'close%_6lags', 'close%_7lags', 'close%_8lags', 'close%_9lags', 'close%_19lags', 'close%_10lags', 'close%_17lags', 'close%_16lags', 'close%_11lags', 'close%_15lags', 'close%_12lags', 'close%_14lags', 'close%_13lags']\n"
     ]
    }
   ],
   "source": [
    "start_vif = False\n",
    "if start_vif is True:\n",
    "    crypto = 'BTC'\n",
    "    df = features.crypto_modelling[crypto].copy()\n",
    "    \n",
    "    BINARY_COLUMNS = list(df.columns[df.isin([0,1]).all()])\n",
    "    EXOG_NUMERICAL= [i for i in df.columns if i not in BINARY_COLUMNS and i!= ENDOG]\n",
    "    \n",
    "    data = df[BINARY_COLUMNS+EXOG_NUMERICAL]\n",
    "    vif_iterations = []\n",
    "    \n",
    "    initial_set_features = BINARY_COLUMNS+EXOG_NUMERICAL\n",
    "    X = df[initial_set_features]\n",
    "    for iteration_count in range(1,len(initial_set_features)+1):\n",
    "        drop_feature, df_vif = calculate_vif(X, threshold = 10)\n",
    "        print(f'Iteration: {iteration_count}',',drop: ',drop_feature)\n",
    "        vif_iterations.append(df_vif)\n",
    "        if drop_feature is None:\n",
    "            break\n",
    "        X = X.drop(columns = [drop_feature])\n",
    "\n",
    "    with open('output/vif_iterations.pickle', 'wb') as handle:\n",
    "        pickle.dump(vif_iterations, handle, protocol=pickle.HIGHEST_PROTOCOL)\n",
    "\n",
    "else:\n",
    "    with open('output/vif_iterations.pickle', 'rb') as handle:\n",
    "        vif_iterations = pickle.load(handle)\n",
    "\n",
    "SELECTED_FEATURES_VIF = list(vif_iterations[-1].index)\n",
    "\n",
    "print(f'Total # vif iterations: {len(vif_iterations)}')    \n",
    "print(f'Final selected columns: {SELECTED_FEATURES_VIF}')    \n",
    "\n"
   ]
  },
  {
   "cell_type": "code",
   "execution_count": 7,
   "id": "22fc425d-cac1-4ee7-be68-db1267b37a60",
   "metadata": {},
   "outputs": [
    {
     "data": {
      "application/vnd.jupyter.widget-view+json": {
       "model_id": "637c36559afc4cfea06ad48b80a2c955",
       "version_major": 2,
       "version_minor": 0
      },
      "text/plain": [
       "interactive(children=(Dropdown(description='crypto', options=('BTC', 'ETH', 'ADA', 'DASH'), value='BTC'), Outp…"
      ]
     },
     "metadata": {},
     "output_type": "display_data"
    }
   ],
   "source": [
    "@interact\n",
    "def show_corr(crypto = ['BTC','ETH','ADA','DASH']):\n",
    "    #split columns\n",
    "    ENDOG = 'close%'\n",
    "    df = features.crypto_modelling[crypto][[ENDOG]+SELECTED_FEATURES_VIF]\n",
    "    \n",
    "    BINARY_COLUMNS = list(df.columns[df.isin([0,1]).all()])\n",
    "    EXOG_NUMERICAL= [i for i in df.columns if i not in BINARY_COLUMNS and i!= ENDOG]\n",
    "    print(len(EXOG_NUMERICAL+BINARY_COLUMNS))\n",
    "    \n",
    "    order_feature_corr = list(abs(df[[ENDOG]+EXOG_NUMERICAL].drop(columns = ['month','day','hour']).corr()).sort_values('close%',ascending=False).index)\n",
    "    corr = df[order_feature_corr].corr()\n",
    "    corr.to_excel(f'output/after_vif_feature_corr_{crypto}.xlsx')\n",
    "\n",
    "    return corr.head()"
   ]
  },
  {
   "cell_type": "markdown",
   "id": "eaeeb327-ebfa-4a12-9257-72cbdfe15e30",
   "metadata": {},
   "source": [
    "### b. PCA"
   ]
  },
  {
   "cell_type": "code",
   "execution_count": 8,
   "id": "7196db4a-3c37-48ee-8566-5fe17af936f7",
   "metadata": {},
   "outputs": [
    {
     "name": "stdout",
     "output_type": "stream",
     "text": [
      "14\n"
     ]
    }
   ],
   "source": [
    "crypto = 'BTC'\n",
    "variance_threshold=0.8\n",
    "df=features.crypto_modelling[crypto][SELECTED_FEATURES_VIF]\n",
    "cumulative_variance, n_components, components_df = pca_analysis(df=df,endog='close%',variance_threshold=variance_threshold)\n",
    "\n",
    "weight_threshold = 0.2\n",
    "SELECTED_FEATURES_PCA = []\n",
    "for component in ['PC1','PC2','PC3']:\n",
    "    selected_features = [k for k,v in components_df[[component]].sort_values(component,ascending=False).to_dict()[component].items() if v>=weight_threshold]\n",
    "    SELECTED_FEATURES_PCA.append(selected_features) \n",
    "\n",
    "import itertools\n",
    "\n",
    "SELECTED_FEATURES_PCA = list(set(list(itertools.chain(*SELECTED_FEATURES_PCA))))\n",
    "print(len(SELECTED_FEATURES_PCA))"
   ]
  },
  {
   "cell_type": "code",
   "execution_count": 9,
   "id": "25860369-2004-4bd8-a0f7-8fa37dc74b06",
   "metadata": {},
   "outputs": [
    {
     "data": {
      "application/vnd.jupyter.widget-view+json": {
       "model_id": "af352bed0a014fe29f1b5dd63237bc23",
       "version_major": 2,
       "version_minor": 0
      },
      "text/plain": [
       "interactive(children=(Dropdown(description='crypto', options=('BTC', 'ETH', 'ADA', 'DASH'), value='BTC'), Drop…"
      ]
     },
     "metadata": {},
     "output_type": "display_data"
    }
   ],
   "source": [
    "@interact\n",
    "\n",
    "def pca(crypto=['BTC','ETH','ADA','DASH'],variance_threshold=[0.8,0.9]):\n",
    "    \n",
    "    df=features.crypto_modelling[crypto][SELECTED_FEATURES_VIF]\n",
    "    cumulative_variance, n_components, components_df = pca_analysis(df=df,endog='close%',variance_threshold=variance_threshold)\n",
    "    \n",
    "    fig = px.line(cumulative_variance).update_layout(template='presentation'\n",
    "                                                     ,title = 'Explained Variance'\n",
    "                                                     ,yaxis = {\"title\": '','tickformat':\".0%\"}\n",
    "                                                     ,xaxis = {\"title\": '#PC'}\n",
    "                                                     ,font_size=12\n",
    "                                                     ,height=500\n",
    "                                                     ,width=500\n",
    "                                                     ,showlegend=False) #day_of_week, weekday\n",
    "\n",
    "    return fig.show(), components_df[['PC1','PC2','PC3']].head()\n"
   ]
  },
  {
   "cell_type": "code",
   "execution_count": 11,
   "id": "4bd86876-5ab4-4578-871b-05c347e88896",
   "metadata": {},
   "outputs": [
    {
     "data": {
      "application/vnd.jupyter.widget-view+json": {
       "model_id": "268a8536a5954ae1912aa74061a235fd",
       "version_major": 2,
       "version_minor": 0
      },
      "text/plain": [
       "interactive(children=(Dropdown(description='crypto', options=('BTC', 'ETH', 'ADA', 'DASH'), value='BTC'), Drop…"
      ]
     },
     "metadata": {},
     "output_type": "display_data"
    }
   ],
   "source": [
    "@interact\n",
    "def plot_box(crypto = ['BTC','ETH','ADA','DASH'],column=['weekday','month','day','year']):\n",
    "    df = features.crypto_modelling[crypto].copy()\n",
    "    fig = px.box(df, y='close%', x=column).update_layout(template='presentation',height=800,width=1000) #day_of_week, weekday\n",
    "    \n",
    "    return fig.show()"
   ]
  },
  {
   "cell_type": "markdown",
   "id": "a3a5f5c4-3be0-4a72-ad71-de3704ec0e56",
   "metadata": {},
   "source": [
    "## III. Cross validation"
   ]
  },
  {
   "cell_type": "code",
   "execution_count": 12,
   "id": "8ab44382-1947-41ea-ae41-7bef551aeb41",
   "metadata": {},
   "outputs": [],
   "source": [
    "#sets creation per crypto\n",
    "train_size = 1000\n",
    "test_size = 1\n",
    "\n",
    "splits = {}\n",
    "for crypto in CRYPTOS:         \n",
    "    #select crypto data modelling\n",
    "    df=features.crypto_modelling[crypto].copy()\n",
    "    \n",
    "    #split based on train/dest dataset\n",
    "    cst = CustomTimeSeriesSplit(X=df.index, train_size=train_size, test_size=test_size) \n",
    "    cst.run()\n",
    "\n",
    "    splits[crypto] = {}\n",
    "    for i, (train_index, test_index) in enumerate(cst.splits):\n",
    "        splits[crypto][i] = [train_index,test_index]\n"
   ]
  },
  {
   "cell_type": "markdown",
   "id": "89c2c674-c253-4488-8d7a-53a6382c9065",
   "metadata": {},
   "source": [
    "#### visualize resampling on cv set"
   ]
  },
  {
   "cell_type": "code",
   "execution_count": 13,
   "id": "9cd00a44-a910-4468-92ac-4950f76a8d39",
   "metadata": {},
   "outputs": [
    {
     "data": {
      "application/vnd.jupyter.widget-view+json": {
       "model_id": "34274465102a4b71b068d7682af554c8",
       "version_major": 2,
       "version_minor": 0
      },
      "text/plain": [
       "interactive(children=(Dropdown(description='crypto', options=('BTC', 'ETH'), value='BTC'), Dropdown(descriptio…"
      ]
     },
     "metadata": {},
     "output_type": "display_data"
    }
   ],
   "source": [
    "@interact\n",
    "def resample_result(crypto = ['BTC','ETH'],col = ['close','close%']):\n",
    "    cv_set = splits[crypto][len(splits[crypto])-1][0] #train\n",
    "    start_period = np.min(cv_set)\n",
    "    end_period = np.max(cv_set)\n",
    "    print(start_period,end_period)\n",
    "    \n",
    "    df_filtered_1 = crypto_resampled[1][crypto][[col]].loc[start_period:end_period]\n",
    "    df_filtered_15 = crypto_resampled[15][crypto][[col]].loc[start_period:end_period]\n",
    " \n",
    "    fig = px.line(df_filtered_1,template = 'presentation')\n",
    "    fig.update_layout(template='presentation',title=f'{crypto} {col}',height=500,width=1500,yaxis={'title':''},xaxis={'title':''},font_size=12,showlegend=False)\n",
    "    fig_resampled_15 = px.line(df_filtered_15,template = 'presentation')\n",
    "    fig_resampled_15.update_layout(template='presentation',title=f'{crypto} {col}',height=500,width=1500,yaxis={'title':''},xaxis={'title':''},font_size=12,showlegend=False)\n",
    "    \n",
    "    return fig.show(), fig_resampled_15.show()\n",
    "    "
   ]
  },
  {
   "cell_type": "markdown",
   "id": "e75aaff4-113a-4690-9344-95d73b1b9154",
   "metadata": {},
   "source": [
    "### Model testing - one crypto"
   ]
  },
  {
   "cell_type": "code",
   "execution_count": 17,
   "id": "caff9d79-78dc-4dfe-a253-8eabf5877e6d",
   "metadata": {},
   "outputs": [
    {
     "data": {
      "application/vnd.plotly.v1+json": {
       "config": {
        "plotlyServerURL": "https://plot.ly"
       },
       "data": [
        {
         "hovertemplate": "variable=predicted%<br>timestamp=%{x}<br>value=%{y}<extra></extra>",
         "legendgroup": "predicted%",
         "line": {
          "color": "#1F77B4",
          "dash": "solid"
         },
         "marker": {
          "symbol": "circle"
         },
         "mode": "lines",
         "name": "predicted%",
         "orientation": "v",
         "showlegend": true,
         "type": "scatter",
         "x": [
          "2023-06-20T03:30:00",
          "2023-06-30T13:45:00",
          "2023-07-11T00:00:00",
          "2023-07-21T10:15:00",
          "2023-07-31T20:30:00",
          "2023-08-11T06:45:00",
          "2023-08-21T17:00:00",
          "2023-09-01T03:15:00",
          "2023-09-11T13:30:00",
          "2023-09-21T23:45:00",
          "2023-10-02T10:00:00",
          "2023-10-12T20:15:00",
          "2023-10-23T06:30:00",
          "2023-11-02T16:45:00",
          "2023-11-13T03:00:00",
          "2023-11-23T13:15:00",
          "2023-12-03T23:30:00",
          "2023-12-14T09:45:00",
          "2023-12-24T20:00:00",
          "2024-01-04T06:15:00",
          "2024-01-14T16:30:00",
          "2024-01-25T02:45:00",
          "2024-02-04T13:00:00",
          "2024-02-14T23:15:00",
          "2024-02-25T09:30:00",
          "2024-03-06T19:45:00",
          "2024-03-17T06:00:00",
          "2024-03-27T16:15:00",
          "2024-04-07T02:30:00",
          "2024-04-17T12:45:00",
          "2024-04-27T23:00:00",
          "2024-05-08T09:15:00",
          "2024-05-18T19:30:00",
          "2024-05-29T05:45:00"
         ],
         "xaxis": "x",
         "y": [
          0.00334416,
          -0.04744198,
          0.00102723,
          0.0053673,
          0.00413594,
          0.00129961,
          0.00098902,
          0.00155374,
          0.00073238,
          0.00173501,
          0.00449591,
          -0.00114264,
          0.00081981,
          -0.00247047,
          -0.00232875,
          -0.00254032,
          -0.00297768,
          0.00597912,
          0.00165053,
          0.00571586,
          0.00235593,
          -0.00123024,
          -0.00078769,
          0.00016135,
          -0.00108261,
          0.002047,
          0.00146479,
          -0.00385977,
          0.00121701,
          0.00130471,
          -0.00216196,
          -3.646e-05,
          0.001388,
          -0.00119235
         ],
         "yaxis": "y"
        },
        {
         "hovertemplate": "variable=actual%<br>timestamp=%{x}<br>value=%{y}<extra></extra>",
         "legendgroup": "actual%",
         "line": {
          "color": "#FF7F0E",
          "dash": "solid"
         },
         "marker": {
          "symbol": "circle"
         },
         "mode": "lines",
         "name": "actual%",
         "orientation": "v",
         "showlegend": true,
         "type": "scatter",
         "x": [
          "2023-06-20T03:30:00",
          "2023-06-30T13:45:00",
          "2023-07-11T00:00:00",
          "2023-07-21T10:15:00",
          "2023-07-31T20:30:00",
          "2023-08-11T06:45:00",
          "2023-08-21T17:00:00",
          "2023-09-01T03:15:00",
          "2023-09-11T13:30:00",
          "2023-09-21T23:45:00",
          "2023-10-02T10:00:00",
          "2023-10-12T20:15:00",
          "2023-10-23T06:30:00",
          "2023-11-02T16:45:00",
          "2023-11-13T03:00:00",
          "2023-11-23T13:15:00",
          "2023-12-03T23:30:00",
          "2023-12-14T09:45:00",
          "2023-12-24T20:00:00",
          "2024-01-04T06:15:00",
          "2024-01-14T16:30:00",
          "2024-01-25T02:45:00",
          "2024-02-04T13:00:00",
          "2024-02-14T23:15:00",
          "2024-02-25T09:30:00",
          "2024-03-06T19:45:00",
          "2024-03-17T06:00:00",
          "2024-03-27T16:15:00",
          "2024-04-07T02:30:00",
          "2024-04-17T12:45:00",
          "2024-04-27T23:00:00",
          "2024-05-08T09:15:00",
          "2024-05-18T19:30:00",
          "2024-05-29T05:45:00"
         ],
         "xaxis": "x",
         "y": [
          -0.00076658,
          -0.06170355,
          0.00348068,
          0.00321958,
          0.00323729,
          -0.00033681,
          0,
          -0.00155824,
          0.00245098,
          -0.00203335,
          0.0007446,
          0.00123102,
          -0.00523756,
          0.00464345,
          -0.00570244,
          0.00156781,
          -0.0110664,
          0.00655738,
          0.00388727,
          -0.00053352,
          0.00091575,
          -0.00127119,
          -0.00137795,
          -0.00017304,
          -0.00169549,
          0.00096127,
          0.00452899,
          -0.00473335,
          -0.00033944,
          -0.00495272,
          0.0017234,
          -0.00248419,
          0,
          0.00086449
         ],
         "yaxis": "y"
        }
       ],
       "layout": {
        "autosize": true,
        "legend": {
         "title": {
          "text": "variable"
         },
         "tracegroupgap": 0
        },
        "margin": {
         "t": 60
        },
        "template": {
         "data": {
          "pie": [
           {
            "automargin": true,
            "type": "pie"
           }
          ],
          "scatter": [
           {
            "line": {
             "width": 3
            },
            "marker": {
             "size": 9
            },
            "type": "scatter"
           }
          ],
          "scatter3d": [
           {
            "line": {
             "width": 3
            },
            "marker": {
             "size": 9
            },
            "type": "scatter3d"
           }
          ],
          "scattergeo": [
           {
            "line": {
             "width": 3
            },
            "marker": {
             "size": 9
            },
            "type": "scattergeo"
           }
          ],
          "scattergl": [
           {
            "line": {
             "width": 3
            },
            "marker": {
             "size": 9
            },
            "type": "scattergl"
           }
          ],
          "scatterpolar": [
           {
            "line": {
             "width": 3
            },
            "marker": {
             "size": 9
            },
            "type": "scatterpolar"
           }
          ],
          "scatterpolargl": [
           {
            "line": {
             "width": 3
            },
            "marker": {
             "size": 9
            },
            "type": "scatterpolargl"
           }
          ],
          "scatterternary": [
           {
            "line": {
             "width": 3
            },
            "marker": {
             "size": 9
            },
            "type": "scatterternary"
           }
          ],
          "table": [
           {
            "cells": {
             "height": 30
            },
            "header": {
             "height": 36
            },
            "type": "table"
           }
          ]
         },
         "layout": {
          "font": {
           "size": 18
          },
          "xaxis": {
           "title": {
            "standoff": 15
           }
          },
          "yaxis": {
           "title": {
            "standoff": 15
           }
          }
         }
        },
        "xaxis": {
         "anchor": "y",
         "autorange": true,
         "domain": [
          0,
          1
         ],
         "range": [
          "2023-06-20 03:30",
          "2024-05-29 05:45"
         ],
         "title": {
          "text": "timestamp"
         },
         "type": "date"
        },
        "yaxis": {
         "anchor": "x",
         "autorange": true,
         "domain": [
          0,
          1
         ],
         "range": [
          -0.06549582388888889,
          0.010349653888888888
         ],
         "title": {
          "text": "value"
         },
         "type": "linear"
        }
       }
      },
      "image/png": "[encoded data removed]",
      "text/html": [
       "<div>                            <div id=\"926d34fe-b312-49b1-bf52-7cda381cf37c\" class=\"plotly-graph-div\" style=\"height:525px; width:100%;\"></div>            <script type=\"text/javascript\">                require([\"plotly\"], function(Plotly) {                    window.PLOTLYENV=window.PLOTLYENV || {};                                    if (document.getElementById(\"926d34fe-b312-49b1-bf52-7cda381cf37c\")) {                    Plotly.newPlot(                        \"926d34fe-b312-49b1-bf52-7cda381cf37c\",                        [{\"hovertemplate\":\"variable=predicted%\\u003cbr\\u003etimestamp=%{x}\\u003cbr\\u003evalue=%{y}\\u003cextra\\u003e\\u003c\\u002fextra\\u003e\",\"legendgroup\":\"predicted%\",\"line\":{\"color\":\"#1F77B4\",\"dash\":\"solid\"},\"marker\":{\"symbol\":\"circle\"},\"mode\":\"lines\",\"name\":\"predicted%\",\"orientation\":\"v\",\"showlegend\":true,\"x\":[\"2023-06-20T03:30:00\",\"2023-06-30T13:45:00\",\"2023-07-11T00:00:00\",\"2023-07-21T10:15:00\",\"2023-07-31T20:30:00\",\"2023-08-11T06:45:00\",\"2023-08-21T17:00:00\",\"2023-09-01T03:15:00\",\"2023-09-11T13:30:00\",\"2023-09-21T23:45:00\",\"2023-10-02T10:00:00\",\"2023-10-12T20:15:00\",\"2023-10-23T06:30:00\",\"2023-11-02T16:45:00\",\"2023-11-13T03:00:00\",\"2023-11-23T13:15:00\",\"2023-12-03T23:30:00\",\"2023-12-14T09:45:00\",\"2023-12-24T20:00:00\",\"2024-01-04T06:15:00\",\"2024-01-14T16:30:00\",\"2024-01-25T02:45:00\",\"2024-02-04T13:00:00\",\"2024-02-14T23:15:00\",\"2024-02-25T09:30:00\",\"2024-03-06T19:45:00\",\"2024-03-17T06:00:00\",\"2024-03-27T16:15:00\",\"2024-04-07T02:30:00\",\"2024-04-17T12:45:00\",\"2024-04-27T23:00:00\",\"2024-05-08T09:15:00\",\"2024-05-18T19:30:00\",\"2024-05-29T05:45:00\"],\"xaxis\":\"x\",\"y\":[0.00334416,-0.04744198,0.00102723,0.0053673,0.00413594,0.00129961,0.00098902,0.00155374,0.00073238,0.00173501,0.00449591,-0.00114264,0.00081981,-0.00247047,-0.00232875,-0.00254032,-0.00297768,0.00597912,0.00165053,0.00571586,0.00235593,-0.00123024,-0.00078769,0.00016135,-0.00108261,0.002047,0.00146479,-0.00385977,0.00121701,0.00130471,-0.00216196,-3.646e-05,0.001388,-0.00119235],\"yaxis\":\"y\",\"type\":\"scatter\"},{\"hovertemplate\":\"variable=actual%\\u003cbr\\u003etimestamp=%{x}\\u003cbr\\u003evalue=%{y}\\u003cextra\\u003e\\u003c\\u002fextra\\u003e\",\"legendgroup\":\"actual%\",\"line\":{\"color\":\"#FF7F0E\",\"dash\":\"solid\"},\"marker\":{\"symbol\":\"circle\"},\"mode\":\"lines\",\"name\":\"actual%\",\"orientation\":\"v\",\"showlegend\":true,\"x\":[\"2023-06-20T03:30:00\",\"2023-06-30T13:45:00\",\"2023-07-11T00:00:00\",\"2023-07-21T10:15:00\",\"2023-07-31T20:30:00\",\"2023-08-11T06:45:00\",\"2023-08-21T17:00:00\",\"2023-09-01T03:15:00\",\"2023-09-11T13:30:00\",\"2023-09-21T23:45:00\",\"2023-10-02T10:00:00\",\"2023-10-12T20:15:00\",\"2023-10-23T06:30:00\",\"2023-11-02T16:45:00\",\"2023-11-13T03:00:00\",\"2023-11-23T13:15:00\",\"2023-12-03T23:30:00\",\"2023-12-14T09:45:00\",\"2023-12-24T20:00:00\",\"2024-01-04T06:15:00\",\"2024-01-14T16:30:00\",\"2024-01-25T02:45:00\",\"2024-02-04T13:00:00\",\"2024-02-14T23:15:00\",\"2024-02-25T09:30:00\",\"2024-03-06T19:45:00\",\"2024-03-17T06:00:00\",\"2024-03-27T16:15:00\",\"2024-04-07T02:30:00\",\"2024-04-17T12:45:00\",\"2024-04-27T23:00:00\",\"2024-05-08T09:15:00\",\"2024-05-18T19:30:00\",\"2024-05-29T05:45:00\"],\"xaxis\":\"x\",\"y\":[-0.00076658,-0.06170355,0.00348068,0.00321958,0.00323729,-0.00033681,0.0,-0.00155824,0.00245098,-0.00203335,0.0007446,0.00123102,-0.00523756,0.00464345,-0.00570244,0.00156781,-0.0110664,0.00655738,0.00388727,-0.00053352,0.00091575,-0.00127119,-0.00137795,-0.00017304,-0.00169549,0.00096127,0.00452899,-0.00473335,-0.00033944,-0.00495272,0.0017234,-0.00248419,0.0,0.00086449],\"yaxis\":\"y\",\"type\":\"scatter\"}],                        {\"template\":{\"data\":{\"pie\":[{\"automargin\":true,\"type\":\"pie\"}],\"scatter3d\":[{\"line\":{\"width\":3},\"marker\":{\"size\":9},\"type\":\"scatter3d\"}],\"scattergeo\":[{\"line\":{\"width\":3},\"marker\":{\"size\":9},\"type\":\"scattergeo\"}],\"scattergl\":[{\"line\":{\"width\":3},\"marker\":{\"size\":9},\"type\":\"scattergl\"}],\"scatterpolargl\":[{\"line\":{\"width\":3},\"marker\":{\"size\":9},\"type\":\"scatterpolargl\"}],\"scatterpolar\":[{\"line\":{\"width\":3},\"marker\":{\"size\":9},\"type\":\"scatterpolar\"}],\"scatter\":[{\"line\":{\"width\":3},\"marker\":{\"size\":9},\"type\":\"scatter\"}],\"scatterternary\":[{\"line\":{\"width\":3},\"marker\":{\"size\":9},\"type\":\"scatterternary\"}],\"table\":[{\"cells\":{\"height\":30},\"header\":{\"height\":36},\"type\":\"table\"}]},\"layout\":{\"font\":{\"size\":18},\"xaxis\":{\"title\":{\"standoff\":15}},\"yaxis\":{\"title\":{\"standoff\":15}}}},\"xaxis\":{\"anchor\":\"y\",\"domain\":[0.0,1.0],\"title\":{\"text\":\"timestamp\"}},\"yaxis\":{\"anchor\":\"x\",\"domain\":[0.0,1.0],\"title\":{\"text\":\"value\"}},\"legend\":{\"title\":{\"text\":\"variable\"},\"tracegroupgap\":0},\"margin\":{\"t\":60}},                        {\"responsive\": true}                    ).then(function(){\n",
       "                            \n",
       "var gd = document.getElementById('926d34fe-b312-49b1-bf52-7cda381cf37c');\n",
       "var x = new MutationObserver(function (mutations, observer) {{\n",
       "        var display = window.getComputedStyle(gd).display;\n",
       "        if (!display || display === 'none') {{\n",
       "            console.log([gd, 'removed!']);\n",
       "            Plotly.purge(gd);\n",
       "            observer.disconnect();\n",
       "        }}\n",
       "}});\n",
       "\n",
       "// Listen for the removal of the full notebook cells\n",
       "var notebookContainer = gd.closest('#notebook-container');\n",
       "if (notebookContainer) {{\n",
       "    x.observe(notebookContainer, {childList: true});\n",
       "}}\n",
       "\n",
       "// Listen for the clearing of the current output cell\n",
       "var outputEl = gd.closest('.output');\n",
       "if (outputEl) {{\n",
       "    x.observe(outputEl, {childList: true});\n",
       "}}\n",
       "\n",
       "                        })                };                });            </script>        </div>"
      ]
     },
     "metadata": {},
     "output_type": "display_data"
    }
   ],
   "source": [
    "# cretion of CV sets\n",
    "crypto = 'ADA'\n",
    "model = 'SVR'\n",
    "df=features.crypto_modelling[crypto][[ENDOG]+SELECTED_FEATURES_PCA]\n",
    "    \n",
    "#creation of test results\n",
    "cv_results = CVresults(df = df,model=model,crypto=crypto, splits=splits[crypto])\n",
    "cv_results.run(**{'kernel':'linear','gamma':0.2,'C':5,'epsilon':0.05})\n",
    "px.line(pd.DataFrame(cv_results.test_results, columns = ['timestamp','predicted%','actual%']).set_index('timestamp'),template='presentation')"
   ]
  },
  {
   "cell_type": "markdown",
   "id": "ba0e9808-2efa-4deb-a113-0fde9721e4d6",
   "metadata": {},
   "source": [
    "### Model testing - all cryptos"
   ]
  },
  {
   "cell_type": "code",
   "execution_count": 18,
   "id": "2b0edcf9-40a3-48bf-af4f-33ac7dfaaa84",
   "metadata": {},
   "outputs": [],
   "source": [
    "rerun_cv = False\n",
    "#reruning CV tests for all models for all cryptos\n",
    "\n",
    "# models ={#'linear':None,\n",
    "#          'SVR(1)':{'kernel':'linear','gamma':0.2,'C':10,'epsilon':0.01},\n",
    "#           'SVR(2)':{'kernel':'rbf','gamma':0.2,'C':10,'epsilon':0.05},\n",
    "#           'SVR(3)':{'kernel':'poly','gamma':0.2,'C':10,'epsilon':0.01}, #['poly',0.2,10,0.01],\n",
    "#           'random-forest(1)':{'n_estimators':100,'random_state':0},\n",
    "#           'random-forest(2)':{'n_estimators':50,'random_state':2},\n",
    "#           # 'random-forest(3)':{'n_estimators':240,'random_state':3} #n_estimators=100,random_state=0\n",
    "#         }\n",
    "\n",
    "models ={'SVR(1)':{'kernel':'linear','gamma':0.2,'C':10,'epsilon':0.05},\n",
    "          'SVR(2)':{'kernel':'rbf','gamma':0.2,'C':5,'epsilon':0.01},\n",
    "          'SVR(3)':{'kernel':'poly','gamma':0.2,'C':2,'epsilon':0.05}, #['poly',0.2,10,0.01],\n",
    "          'random-forest(1)':{'n_estimators':30,'random_state':0},\n",
    "          'random-forest(2)':{'n_estimators':50,'random_state':3},\n",
    "        }\n",
    "\n",
    "\n",
    "results = {}\n",
    "\n",
    "if rerun_cv is True:\n",
    "    for crypto in CRYPTOS:\n",
    "        print('Running for: ',crypto)\n",
    "        results[crypto] = {}\n",
    "        for model, specs in models.items():\n",
    "            print(model)\n",
    "            \n",
    "            #select crypto data modelling and filter based on the last selected features from PCA\n",
    "            df=features.crypto_modelling[crypto][[ENDOG]+SELECTED_FEATURES_PCA]\n",
    "        \n",
    "            # creation of test results for each test/train sample\n",
    "            cv_results = CVresults(df=df,model=model.split('(')[0],crypto=crypto, splits=splits[crypto])\n",
    "    \n",
    "            if specs is None:\n",
    "                try:\n",
    "                    cv_results.run()\n",
    "                except:\n",
    "                    print(f'Issue with {crypto}: {model}')\n",
    "            else:\n",
    "                try:\n",
    "                    cv_results.run(**specs)\n",
    "                except:\n",
    "                    print(f'Issue with {crypto}: {model}')\n",
    "            \n",
    "            results[crypto][model] = cv_results.test_results\n",
    "    \n",
    "    with open('output/cv_results_new.pickle', 'wb') as handle:\n",
    "        pickle.dump(results, handle, protocol=pickle.HIGHEST_PROTOCOL)\n",
    "\n",
    "else:\n",
    "    with open('output/cv_results_new.pickle', 'rb') as handle:\n",
    "        results = pickle.load(handle)\n"
   ]
  },
  {
   "cell_type": "markdown",
   "id": "3b09f343-3c2f-4c9c-ba8d-987a20cacc70",
   "metadata": {},
   "source": [
    "### Model selection per crypto"
   ]
  },
  {
   "cell_type": "code",
   "execution_count": 19,
   "id": "d64bca14-81e2-496a-a0b8-e4918c87099c",
   "metadata": {
    "scrolled": true
   },
   "outputs": [
    {
     "data": {
      "text/html": [
       "<div>\n",
       "<style scoped>\n",
       "    .dataframe tbody tr th:only-of-type {\n",
       "        vertical-align: middle;\n",
       "    }\n",
       "\n",
       "    .dataframe tbody tr th {\n",
       "        vertical-align: top;\n",
       "    }\n",
       "\n",
       "    .dataframe thead th {\n",
       "        text-align: right;\n",
       "    }\n",
       "</style>\n",
       "<table border=\"1\" class=\"dataframe\">\n",
       "  <thead>\n",
       "    <tr style=\"text-align: right;\">\n",
       "      <th></th>\n",
       "      <th>#cryptos</th>\n",
       "    </tr>\n",
       "    <tr>\n",
       "      <th>model</th>\n",
       "      <th></th>\n",
       "    </tr>\n",
       "  </thead>\n",
       "  <tbody>\n",
       "    <tr>\n",
       "      <th>random-forest(1)</th>\n",
       "      <td>22</td>\n",
       "    </tr>\n",
       "    <tr>\n",
       "      <th>random-forest(2)</th>\n",
       "      <td>20</td>\n",
       "    </tr>\n",
       "    <tr>\n",
       "      <th>SVR(2)</th>\n",
       "      <td>14</td>\n",
       "    </tr>\n",
       "  </tbody>\n",
       "</table>\n",
       "</div>"
      ],
      "text/plain": [
       "                  #cryptos\n",
       "model                     \n",
       "random-forest(1)        22\n",
       "random-forest(2)        20\n",
       "SVR(2)                  14"
      ]
     },
     "execution_count": 19,
     "metadata": {},
     "output_type": "execute_result"
    }
   ],
   "source": [
    "def get_top_model(cryptos):\n",
    "    selected_models = {}\n",
    "    summary_matrix = None\n",
    "    fig = {}\n",
    "    # stats = {}\n",
    "\n",
    "    for crypto in cryptos:\n",
    "        df_resampled = crypto_resampled[freq][crypto].copy() #predefined\n",
    "        cv_results = results[crypto].copy() #predefined\n",
    "        process_results = ProcessResultsCrypto(crypto=crypto,df_resampled = df_resampled ,cv_results=cv_results) #calculated on PCA features\n",
    "        process_results.run()\n",
    "        \n",
    "        fig[crypto] = process_results.fig\n",
    "        # stats[crypto] = process_results.stats_dict\n",
    "        # process_results.converted_dict['SVR(1)']\n",
    "        \n",
    "        summary_df = pd.DataFrame.from_dict(process_results.stats_dict, orient='index').reset_index().rename(columns={'index':'model'})\n",
    "        summary_df = summary_df[summary_df['model']!='linear']\n",
    "        summary_df['crypto'] = crypto\n",
    "        summary_df = summary_df[['crypto','model','D%','MAPE']]\n",
    "        selected_model = summary_df.sort_values(by=['D%', 'MAPE'], ascending=[False, True])['model'].values[0]\n",
    "\n",
    "        selected_models[crypto] = selected_model\n",
    "\n",
    "        summary_matrix = summary_df if summary_matrix is None else pd.concat([summary_matrix,summary_df],ignore_index=True)\n",
    "        summary_matrix.to_excel(f'output/top_models_{datetime.now().date()}.xlsx')\n",
    "\n",
    "\n",
    "    return selected_models, summary_matrix, fig\n",
    "    \n",
    "selected_models, summary_matrix, fig = get_top_model(results)\n",
    "\n",
    "top_models = pd.DataFrame.from_dict(selected_models, orient='index',columns = ['model'])\n",
    "top_models.reset_index().groupby('model').count().sort_values('index').rename(columns = {'index':'#cryptos'}).sort_values('#cryptos',ascending = False)"
   ]
  },
  {
   "cell_type": "code",
   "execution_count": 27,
   "id": "4f8ddad6-a1f6-4554-b60c-7834faa35f29",
   "metadata": {},
   "outputs": [],
   "source": [
    "# top_models.reset_index().sort_values('index').set_index('index')"
   ]
  },
  {
   "cell_type": "code",
   "execution_count": 21,
   "id": "2773a8de-dd54-41f3-95ff-9d3366387210",
   "metadata": {},
   "outputs": [
    {
     "data": {
      "application/vnd.plotly.v1+json": {
       "config": {
        "plotlyServerURL": "https://plot.ly"
       },
       "data": [
        {
         "line": {
          "color": "darkblue",
          "dash": "dash",
          "width": 2.5
         },
         "marker": {
          "color": "darkblue"
         },
         "name": "SVR(1):(D 60.6%, MAPE 0.31%)",
         "type": "scatter",
         "x": [
          "2023-06-20T03:30:00",
          "2023-06-30T13:45:00",
          "2023-07-11T00:00:00",
          "2023-07-21T10:15:00",
          "2023-07-31T20:30:00",
          "2023-08-11T06:45:00",
          "2023-08-21T17:00:00",
          "2023-09-01T03:15:00",
          "2023-09-11T13:30:00",
          "2023-09-21T23:45:00",
          "2023-10-02T10:00:00",
          "2023-10-12T20:15:00",
          "2023-10-23T06:30:00",
          "2023-11-02T16:45:00",
          "2023-11-13T03:00:00",
          "2023-11-23T13:15:00",
          "2023-12-03T23:30:00",
          "2023-12-14T09:45:00",
          "2023-12-24T20:00:00",
          "2024-01-04T06:15:00",
          "2024-01-14T16:30:00",
          "2024-01-25T02:45:00",
          "2024-02-04T13:00:00",
          "2024-02-14T23:15:00",
          "2024-02-25T09:30:00",
          "2024-03-06T19:45:00",
          "2024-03-17T06:00:00",
          "2024-03-27T16:15:00",
          "2024-04-07T02:30:00",
          "2024-04-17T12:45:00",
          "2024-04-27T23:00:00",
          "2024-05-08T09:15:00",
          "2024-05-18T19:30:00",
          "2024-05-29T05:45:00"
         ],
         "xaxis": "x",
         "y": [
          0.0041422,
          -0.00561146,
          -0.00157687,
          -2.806e-05,
          0.00185492,
          0.00233073,
          0.00194328,
          -0.00474852,
          0.00181246,
          -0.00027162,
          -0.00240034,
          -0.00128343,
          6.43e-05,
          0.00035719,
          -0.00111594,
          -0.00189176,
          -0.00086274,
          0.00332601,
          -0.00200809,
          -0.00296391,
          0.00442464,
          0.00033086,
          -0.00120477,
          -0.00153306,
          0.00114691,
          -0.00191004,
          0.00395018,
          -0.00103909,
          0.00256804,
          -0.00470869,
          -0.00430146,
          -0.00096377,
          -0.00197071,
          -0.00270163
         ],
         "yaxis": "y"
        },
        {
         "line": {
          "color": "blue",
          "dash": "dash",
          "width": 2.5
         },
         "marker": {
          "color": "blue"
         },
         "name": "SVR(2):(D 87.9%, MAPE 0.06%)",
         "type": "scatter",
         "x": [
          "2023-06-20T03:30:00",
          "2023-06-30T13:45:00",
          "2023-07-11T00:00:00",
          "2023-07-21T10:15:00",
          "2023-07-31T20:30:00",
          "2023-08-11T06:45:00",
          "2023-08-21T17:00:00",
          "2023-09-01T03:15:00",
          "2023-09-11T13:30:00",
          "2023-09-21T23:45:00",
          "2023-10-02T10:00:00",
          "2023-10-12T20:15:00",
          "2023-10-23T06:30:00",
          "2023-11-02T16:45:00",
          "2023-11-13T03:00:00",
          "2023-11-23T13:15:00",
          "2023-12-03T23:30:00",
          "2023-12-14T09:45:00",
          "2023-12-24T20:00:00",
          "2024-01-04T06:15:00",
          "2024-01-14T16:30:00",
          "2024-01-25T02:45:00",
          "2024-02-04T13:00:00",
          "2024-02-14T23:15:00",
          "2024-02-25T09:30:00",
          "2024-03-06T19:45:00",
          "2024-03-17T06:00:00",
          "2024-03-27T16:15:00",
          "2024-04-07T02:30:00",
          "2024-04-17T12:45:00",
          "2024-04-27T23:00:00",
          "2024-05-08T09:15:00",
          "2024-05-18T19:30:00",
          "2024-05-29T05:45:00"
         ],
         "xaxis": "x",
         "y": [
          5.631e-05,
          -0.02103561,
          0.00083969,
          0.00116136,
          0.00123338,
          -0.00022728,
          0.00095447,
          -0.00054322,
          0.00024601,
          -0.00082973,
          0.00119975,
          0.00161453,
          -0.00362827,
          0.00375831,
          -0.00087791,
          0.00186012,
          -0.00458082,
          0.00164911,
          -4.54e-05,
          -0.00052929,
          -0.0003891,
          -0.00069582,
          -0.00114912,
          -0.00033547,
          0.00043336,
          -0.00606533,
          0.00273776,
          -0.0037015,
          0.00122496,
          -0.0027405,
          -0.0004704,
          -0.00104733,
          -0.00040489,
          -0.00011942
         ],
         "yaxis": "y"
        },
        {
         "line": {
          "color": "lightblue",
          "dash": "dash",
          "width": 2.5
         },
         "marker": {
          "color": "lightblue"
         },
         "name": "SVR(3):(D 63.6%, MAPE 0.24%)",
         "type": "scatter",
         "x": [
          "2023-06-20T03:30:00",
          "2023-06-30T13:45:00",
          "2023-07-11T00:00:00",
          "2023-07-21T10:15:00",
          "2023-07-31T20:30:00",
          "2023-08-11T06:45:00",
          "2023-08-21T17:00:00",
          "2023-09-01T03:15:00",
          "2023-09-11T13:30:00",
          "2023-09-21T23:45:00",
          "2023-10-02T10:00:00",
          "2023-10-12T20:15:00",
          "2023-10-23T06:30:00",
          "2023-11-02T16:45:00",
          "2023-11-13T03:00:00",
          "2023-11-23T13:15:00",
          "2023-12-03T23:30:00",
          "2023-12-14T09:45:00",
          "2023-12-24T20:00:00",
          "2024-01-04T06:15:00",
          "2024-01-14T16:30:00",
          "2024-01-25T02:45:00",
          "2024-02-04T13:00:00",
          "2024-02-14T23:15:00",
          "2024-02-25T09:30:00",
          "2024-03-06T19:45:00",
          "2024-03-17T06:00:00",
          "2024-03-27T16:15:00",
          "2024-04-07T02:30:00",
          "2024-04-17T12:45:00",
          "2024-04-27T23:00:00",
          "2024-05-08T09:15:00",
          "2024-05-18T19:30:00",
          "2024-05-29T05:45:00"
         ],
         "xaxis": "x",
         "y": [
          -0.00090045,
          -0.0038617,
          -0.00108805,
          -0.00156243,
          9.636e-05,
          -0.0003954,
          0.0001546,
          -0.00253837,
          0.00021188,
          -0.0008781,
          0.00037584,
          -0.00048087,
          -0.00243373,
          -0.00048615,
          -0.00085696,
          -0.00060337,
          -0.00085536,
          -6.078e-05,
          -0.00159142,
          -0.00086854,
          0.0017417,
          -0.0001507,
          -0.00039439,
          -0.00076385,
          -0.00104969,
          -0.00098032,
          0.00015246,
          -0.00241095,
          -4.835e-05,
          -0.0026831,
          -0.00095686,
          -8.346e-05,
          -0.0004563,
          -0.00125136
         ],
         "yaxis": "y"
        },
        {
         "line": {
          "color": "lightgreen",
          "dash": "dash",
          "width": 2.5
         },
         "marker": {
          "color": "lightgreen"
         },
         "name": "random-forest(1):(D 93.9%, MAPE 0.09%)",
         "type": "scatter",
         "x": [
          "2023-06-20T03:30:00",
          "2023-06-30T13:45:00",
          "2023-07-11T00:00:00",
          "2023-07-21T10:15:00",
          "2023-07-31T20:30:00",
          "2023-08-11T06:45:00",
          "2023-08-21T17:00:00",
          "2023-09-01T03:15:00",
          "2023-09-11T13:30:00",
          "2023-09-21T23:45:00",
          "2023-10-02T10:00:00",
          "2023-10-12T20:15:00",
          "2023-10-23T06:30:00",
          "2023-11-02T16:45:00",
          "2023-11-13T03:00:00",
          "2023-11-23T13:15:00",
          "2023-12-03T23:30:00",
          "2023-12-14T09:45:00",
          "2023-12-24T20:00:00",
          "2024-01-04T06:15:00",
          "2024-01-14T16:30:00",
          "2024-01-25T02:45:00",
          "2024-02-04T13:00:00",
          "2024-02-14T23:15:00",
          "2024-02-25T09:30:00",
          "2024-03-06T19:45:00",
          "2024-03-17T06:00:00",
          "2024-03-27T16:15:00",
          "2024-04-07T02:30:00",
          "2024-04-17T12:45:00",
          "2024-04-27T23:00:00",
          "2024-05-08T09:15:00",
          "2024-05-18T19:30:00",
          "2024-05-29T05:45:00"
         ],
         "xaxis": "x",
         "y": [
          -0.00020058,
          -0.01170722,
          0.00072182,
          0.00111216,
          0.00158916,
          -0.00029336,
          0.00174962,
          0.00011279,
          0.00047103,
          -0.00070737,
          0.00099597,
          0.00139806,
          -0.00380894,
          0.00174669,
          -0.00112813,
          0.00116772,
          -0.00529252,
          0.00091337,
          -0.00012421,
          -0.00099299,
          -0.0007263,
          -0.00089601,
          -0.0010686,
          -0.00036277,
          -1.248e-05,
          -0.00657858,
          0.00179057,
          -0.00516487,
          0.00209739,
          -0.00362353,
          0.00032811,
          -0.00104583,
          0.00041927,
          4.429e-05
         ],
         "yaxis": "y"
        },
        {
         "line": {
          "color": "green",
          "dash": "dash",
          "width": 2.5
         },
         "marker": {
          "color": "green"
         },
         "name": "random-forest(2):(D 97.0%, MAPE 0.09%)",
         "type": "scatter",
         "x": [
          "2023-06-20T03:30:00",
          "2023-06-30T13:45:00",
          "2023-07-11T00:00:00",
          "2023-07-21T10:15:00",
          "2023-07-31T20:30:00",
          "2023-08-11T06:45:00",
          "2023-08-21T17:00:00",
          "2023-09-01T03:15:00",
          "2023-09-11T13:30:00",
          "2023-09-21T23:45:00",
          "2023-10-02T10:00:00",
          "2023-10-12T20:15:00",
          "2023-10-23T06:30:00",
          "2023-11-02T16:45:00",
          "2023-11-13T03:00:00",
          "2023-11-23T13:15:00",
          "2023-12-03T23:30:00",
          "2023-12-14T09:45:00",
          "2023-12-24T20:00:00",
          "2024-01-04T06:15:00",
          "2024-01-14T16:30:00",
          "2024-01-25T02:45:00",
          "2024-02-04T13:00:00",
          "2024-02-14T23:15:00",
          "2024-02-25T09:30:00",
          "2024-03-06T19:45:00",
          "2024-03-17T06:00:00",
          "2024-03-27T16:15:00",
          "2024-04-07T02:30:00",
          "2024-04-17T12:45:00",
          "2024-04-27T23:00:00",
          "2024-05-08T09:15:00",
          "2024-05-18T19:30:00",
          "2024-05-29T05:45:00"
         ],
         "xaxis": "x",
         "y": [
          -9.988e-05,
          -0.01180322,
          0.0007703,
          0.00115135,
          0.00146002,
          -0.00028639,
          0.00160691,
          0.00023366,
          0.00039043,
          -0.00071612,
          0.00106325,
          0.00151589,
          -0.00385372,
          0.00136998,
          -0.00126747,
          0.0013821,
          -0.00539584,
          0.00090305,
          -4.162e-05,
          -0.00116462,
          -0.00077131,
          -0.00090029,
          -0.0011311,
          -0.00037279,
          9.839e-05,
          -0.00650192,
          0.00178542,
          -0.00522547,
          0.0019519,
          -0.0035942,
          0.00044209,
          -0.00116587,
          0.00028967,
          4.541e-05
         ],
         "yaxis": "y"
        },
        {
         "line": {
          "color": "red",
          "width": 3
         },
         "name": "actual",
         "type": "scatter",
         "x": [
          "2023-06-20T03:30:00",
          "2023-06-30T13:45:00",
          "2023-07-11T00:00:00",
          "2023-07-21T10:15:00",
          "2023-07-31T20:30:00",
          "2023-08-11T06:45:00",
          "2023-08-21T17:00:00",
          "2023-09-01T03:15:00",
          "2023-09-11T13:30:00",
          "2023-09-21T23:45:00",
          "2023-10-02T10:00:00",
          "2023-10-12T20:15:00",
          "2023-10-23T06:30:00",
          "2023-11-02T16:45:00",
          "2023-11-13T03:00:00",
          "2023-11-23T13:15:00",
          "2023-12-03T23:30:00",
          "2023-12-14T09:45:00",
          "2023-12-24T20:00:00",
          "2024-01-04T06:15:00",
          "2024-01-14T16:30:00",
          "2024-01-25T02:45:00",
          "2024-02-04T13:00:00",
          "2024-02-14T23:15:00",
          "2024-02-25T09:30:00",
          "2024-03-06T19:45:00",
          "2024-03-17T06:00:00",
          "2024-03-27T16:15:00",
          "2024-04-07T02:30:00",
          "2024-04-17T12:45:00",
          "2024-04-27T23:00:00",
          "2024-05-08T09:15:00",
          "2024-05-18T19:30:00",
          "2024-05-29T05:45:00"
         ],
         "xaxis": "x",
         "y": [
          -0.00039624,
          -0.02909285,
          0.00066454,
          0.0012374,
          0.0015759,
          -0.00026972,
          0.00105169,
          -0.00024061,
          0.00022415,
          -0.00084877,
          0.00097138,
          0.00153671,
          -0.00435854,
          0.00418548,
          -0.00112157,
          0.00195958,
          -0.00678072,
          0.00148544,
          0.00022687,
          -0.00115252,
          -0.00097014,
          -0.00088228,
          -0.00118965,
          -0.00039253,
          0.00038115,
          -0.00679583,
          0.00242508,
          -0.0042495,
          0.00184254,
          -0.00323252,
          0.0004271,
          -0.0014427,
          0.00047816,
          0.00014583
         ],
         "yaxis": "y"
        }
       ],
       "layout": {
        "font": {
         "size": 12
        },
        "height": 500,
        "legend": {
         "orientation": "h",
         "title": {
          "text": ""
         },
         "yanchor": "top"
        },
        "showlegend": true,
        "template": {
         "data": {
          "pie": [
           {
            "automargin": true,
            "type": "pie"
           }
          ],
          "scatter": [
           {
            "line": {
             "width": 3
            },
            "marker": {
             "size": 9
            },
            "type": "scatter"
           }
          ],
          "scatter3d": [
           {
            "line": {
             "width": 3
            },
            "marker": {
             "size": 9
            },
            "type": "scatter3d"
           }
          ],
          "scattergeo": [
           {
            "line": {
             "width": 3
            },
            "marker": {
             "size": 9
            },
            "type": "scattergeo"
           }
          ],
          "scattergl": [
           {
            "line": {
             "width": 3
            },
            "marker": {
             "size": 9
            },
            "type": "scattergl"
           }
          ],
          "scatterpolar": [
           {
            "line": {
             "width": 3
            },
            "marker": {
             "size": 9
            },
            "type": "scatterpolar"
           }
          ],
          "scatterpolargl": [
           {
            "line": {
             "width": 3
            },
            "marker": {
             "size": 9
            },
            "type": "scatterpolargl"
           }
          ],
          "scatterternary": [
           {
            "line": {
             "width": 3
            },
            "marker": {
             "size": 9
            },
            "type": "scatterternary"
           }
          ],
          "table": [
           {
            "cells": {
             "height": 30
            },
            "header": {
             "height": 36
            },
            "type": "table"
           }
          ]
         },
         "layout": {
          "font": {
           "size": 18
          },
          "xaxis": {
           "title": {
            "standoff": 15
           }
          },
          "yaxis": {
           "title": {
            "standoff": 15
           }
          }
         }
        },
        "title": {
         "text": "Crypto:BTC, actual vs forecast 1-period ahead price % for 34 cv sets"
        },
        "width": 1500,
        "xaxis": {
         "anchor": "y",
         "autorange": true,
         "domain": [
          0,
          0.94
         ],
         "range": [
          "2023-06-20 03:30",
          "2024-05-29 05:45"
         ],
         "showgrid": false,
         "title": {
          "text": ""
         },
         "type": "date"
        },
        "yaxis": {
         "anchor": "x",
         "autorange": true,
         "domain": [
          0,
          1
         ],
         "range": [
          -0.030954932777777777,
          0.006286722777777777
         ],
         "tickformat": ".2%",
         "title": {
          "text": ""
         },
         "type": "linear"
        },
        "yaxis2": {
         "anchor": "x",
         "overlaying": "y",
         "side": "right"
        }
       }
      },
      "image/png": "[encoded data removed]",
      "text/html": [
       "<div>                            <div id=\"73263a1d-cb34-4408-8dd3-de307e0939e5\" class=\"plotly-graph-div\" style=\"height:500px; width:1500px;\"></div>            <script type=\"text/javascript\">                require([\"plotly\"], function(Plotly) {                    window.PLOTLYENV=window.PLOTLYENV || {};                                    if (document.getElementById(\"73263a1d-cb34-4408-8dd3-de307e0939e5\")) {                    Plotly.newPlot(                        \"73263a1d-cb34-4408-8dd3-de307e0939e5\",                        [{\"line\":{\"color\":\"darkblue\",\"dash\":\"dash\",\"width\":2.5},\"marker\":{\"color\":\"darkblue\"},\"name\":\"SVR(1):(D 60.6%, MAPE 0.31%)\",\"x\":[\"2023-06-20T03:30:00\",\"2023-06-30T13:45:00\",\"2023-07-11T00:00:00\",\"2023-07-21T10:15:00\",\"2023-07-31T20:30:00\",\"2023-08-11T06:45:00\",\"2023-08-21T17:00:00\",\"2023-09-01T03:15:00\",\"2023-09-11T13:30:00\",\"2023-09-21T23:45:00\",\"2023-10-02T10:00:00\",\"2023-10-12T20:15:00\",\"2023-10-23T06:30:00\",\"2023-11-02T16:45:00\",\"2023-11-13T03:00:00\",\"2023-11-23T13:15:00\",\"2023-12-03T23:30:00\",\"2023-12-14T09:45:00\",\"2023-12-24T20:00:00\",\"2024-01-04T06:15:00\",\"2024-01-14T16:30:00\",\"2024-01-25T02:45:00\",\"2024-02-04T13:00:00\",\"2024-02-14T23:15:00\",\"2024-02-25T09:30:00\",\"2024-03-06T19:45:00\",\"2024-03-17T06:00:00\",\"2024-03-27T16:15:00\",\"2024-04-07T02:30:00\",\"2024-04-17T12:45:00\",\"2024-04-27T23:00:00\",\"2024-05-08T09:15:00\",\"2024-05-18T19:30:00\",\"2024-05-29T05:45:00\"],\"y\":[0.0041422,-0.00561146,-0.00157687,-2.806e-05,0.00185492,0.00233073,0.00194328,-0.00474852,0.00181246,-0.00027162,-0.00240034,-0.00128343,6.43e-05,0.00035719,-0.00111594,-0.00189176,-0.00086274,0.00332601,-0.00200809,-0.00296391,0.00442464,0.00033086,-0.00120477,-0.00153306,0.00114691,-0.00191004,0.00395018,-0.00103909,0.00256804,-0.00470869,-0.00430146,-0.00096377,-0.00197071,-0.00270163],\"type\":\"scatter\",\"xaxis\":\"x\",\"yaxis\":\"y\"},{\"line\":{\"color\":\"blue\",\"dash\":\"dash\",\"width\":2.5},\"marker\":{\"color\":\"blue\"},\"name\":\"SVR(2):(D 87.9%, MAPE 0.06%)\",\"x\":[\"2023-06-20T03:30:00\",\"2023-06-30T13:45:00\",\"2023-07-11T00:00:00\",\"2023-07-21T10:15:00\",\"2023-07-31T20:30:00\",\"2023-08-11T06:45:00\",\"2023-08-21T17:00:00\",\"2023-09-01T03:15:00\",\"2023-09-11T13:30:00\",\"2023-09-21T23:45:00\",\"2023-10-02T10:00:00\",\"2023-10-12T20:15:00\",\"2023-10-23T06:30:00\",\"2023-11-02T16:45:00\",\"2023-11-13T03:00:00\",\"2023-11-23T13:15:00\",\"2023-12-03T23:30:00\",\"2023-12-14T09:45:00\",\"2023-12-24T20:00:00\",\"2024-01-04T06:15:00\",\"2024-01-14T16:30:00\",\"2024-01-25T02:45:00\",\"2024-02-04T13:00:00\",\"2024-02-14T23:15:00\",\"2024-02-25T09:30:00\",\"2024-03-06T19:45:00\",\"2024-03-17T06:00:00\",\"2024-03-27T16:15:00\",\"2024-04-07T02:30:00\",\"2024-04-17T12:45:00\",\"2024-04-27T23:00:00\",\"2024-05-08T09:15:00\",\"2024-05-18T19:30:00\",\"2024-05-29T05:45:00\"],\"y\":[5.631e-05,-0.02103561,0.00083969,0.00116136,0.00123338,-0.00022728,0.00095447,-0.00054322,0.00024601,-0.00082973,0.00119975,0.00161453,-0.00362827,0.00375831,-0.00087791,0.00186012,-0.00458082,0.00164911,-4.54e-05,-0.00052929,-0.0003891,-0.00069582,-0.00114912,-0.00033547,0.00043336,-0.00606533,0.00273776,-0.0037015,0.00122496,-0.0027405,-0.0004704,-0.00104733,-0.00040489,-0.00011942],\"type\":\"scatter\",\"xaxis\":\"x\",\"yaxis\":\"y\"},{\"line\":{\"color\":\"lightblue\",\"dash\":\"dash\",\"width\":2.5},\"marker\":{\"color\":\"lightblue\"},\"name\":\"SVR(3):(D 63.6%, MAPE 0.24%)\",\"x\":[\"2023-06-20T03:30:00\",\"2023-06-30T13:45:00\",\"2023-07-11T00:00:00\",\"2023-07-21T10:15:00\",\"2023-07-31T20:30:00\",\"2023-08-11T06:45:00\",\"2023-08-21T17:00:00\",\"2023-09-01T03:15:00\",\"2023-09-11T13:30:00\",\"2023-09-21T23:45:00\",\"2023-10-02T10:00:00\",\"2023-10-12T20:15:00\",\"2023-10-23T06:30:00\",\"2023-11-02T16:45:00\",\"2023-11-13T03:00:00\",\"2023-11-23T13:15:00\",\"2023-12-03T23:30:00\",\"2023-12-14T09:45:00\",\"2023-12-24T20:00:00\",\"2024-01-04T06:15:00\",\"2024-01-14T16:30:00\",\"2024-01-25T02:45:00\",\"2024-02-04T13:00:00\",\"2024-02-14T23:15:00\",\"2024-02-25T09:30:00\",\"2024-03-06T19:45:00\",\"2024-03-17T06:00:00\",\"2024-03-27T16:15:00\",\"2024-04-07T02:30:00\",\"2024-04-17T12:45:00\",\"2024-04-27T23:00:00\",\"2024-05-08T09:15:00\",\"2024-05-18T19:30:00\",\"2024-05-29T05:45:00\"],\"y\":[-0.00090045,-0.0038617,-0.00108805,-0.00156243,9.636e-05,-0.0003954,0.0001546,-0.00253837,0.00021188,-0.0008781,0.00037584,-0.00048087,-0.00243373,-0.00048615,-0.00085696,-0.00060337,-0.00085536,-6.078e-05,-0.00159142,-0.00086854,0.0017417,-0.0001507,-0.00039439,-0.00076385,-0.00104969,-0.00098032,0.00015246,-0.00241095,-4.835e-05,-0.0026831,-0.00095686,-8.346e-05,-0.0004563,-0.00125136],\"type\":\"scatter\",\"xaxis\":\"x\",\"yaxis\":\"y\"},{\"line\":{\"color\":\"lightgreen\",\"dash\":\"dash\",\"width\":2.5},\"marker\":{\"color\":\"lightgreen\"},\"name\":\"random-forest(1):(D 93.9%, MAPE 0.09%)\",\"x\":[\"2023-06-20T03:30:00\",\"2023-06-30T13:45:00\",\"2023-07-11T00:00:00\",\"2023-07-21T10:15:00\",\"2023-07-31T20:30:00\",\"2023-08-11T06:45:00\",\"2023-08-21T17:00:00\",\"2023-09-01T03:15:00\",\"2023-09-11T13:30:00\",\"2023-09-21T23:45:00\",\"2023-10-02T10:00:00\",\"2023-10-12T20:15:00\",\"2023-10-23T06:30:00\",\"2023-11-02T16:45:00\",\"2023-11-13T03:00:00\",\"2023-11-23T13:15:00\",\"2023-12-03T23:30:00\",\"2023-12-14T09:45:00\",\"2023-12-24T20:00:00\",\"2024-01-04T06:15:00\",\"2024-01-14T16:30:00\",\"2024-01-25T02:45:00\",\"2024-02-04T13:00:00\",\"2024-02-14T23:15:00\",\"2024-02-25T09:30:00\",\"2024-03-06T19:45:00\",\"2024-03-17T06:00:00\",\"2024-03-27T16:15:00\",\"2024-04-07T02:30:00\",\"2024-04-17T12:45:00\",\"2024-04-27T23:00:00\",\"2024-05-08T09:15:00\",\"2024-05-18T19:30:00\",\"2024-05-29T05:45:00\"],\"y\":[-0.00020058,-0.01170722,0.00072182,0.00111216,0.00158916,-0.00029336,0.00174962,0.00011279,0.00047103,-0.00070737,0.00099597,0.00139806,-0.00380894,0.00174669,-0.00112813,0.00116772,-0.00529252,0.00091337,-0.00012421,-0.00099299,-0.0007263,-0.00089601,-0.0010686,-0.00036277,-1.248e-05,-0.00657858,0.00179057,-0.00516487,0.00209739,-0.00362353,0.00032811,-0.00104583,0.00041927,4.429e-05],\"type\":\"scatter\",\"xaxis\":\"x\",\"yaxis\":\"y\"},{\"line\":{\"color\":\"green\",\"dash\":\"dash\",\"width\":2.5},\"marker\":{\"color\":\"green\"},\"name\":\"random-forest(2):(D 97.0%, MAPE 0.09%)\",\"x\":[\"2023-06-20T03:30:00\",\"2023-06-30T13:45:00\",\"2023-07-11T00:00:00\",\"2023-07-21T10:15:00\",\"2023-07-31T20:30:00\",\"2023-08-11T06:45:00\",\"2023-08-21T17:00:00\",\"2023-09-01T03:15:00\",\"2023-09-11T13:30:00\",\"2023-09-21T23:45:00\",\"2023-10-02T10:00:00\",\"2023-10-12T20:15:00\",\"2023-10-23T06:30:00\",\"2023-11-02T16:45:00\",\"2023-11-13T03:00:00\",\"2023-11-23T13:15:00\",\"2023-12-03T23:30:00\",\"2023-12-14T09:45:00\",\"2023-12-24T20:00:00\",\"2024-01-04T06:15:00\",\"2024-01-14T16:30:00\",\"2024-01-25T02:45:00\",\"2024-02-04T13:00:00\",\"2024-02-14T23:15:00\",\"2024-02-25T09:30:00\",\"2024-03-06T19:45:00\",\"2024-03-17T06:00:00\",\"2024-03-27T16:15:00\",\"2024-04-07T02:30:00\",\"2024-04-17T12:45:00\",\"2024-04-27T23:00:00\",\"2024-05-08T09:15:00\",\"2024-05-18T19:30:00\",\"2024-05-29T05:45:00\"],\"y\":[-9.988e-05,-0.01180322,0.0007703,0.00115135,0.00146002,-0.00028639,0.00160691,0.00023366,0.00039043,-0.00071612,0.00106325,0.00151589,-0.00385372,0.00136998,-0.00126747,0.0013821,-0.00539584,0.00090305,-4.162e-05,-0.00116462,-0.00077131,-0.00090029,-0.0011311,-0.00037279,9.839e-05,-0.00650192,0.00178542,-0.00522547,0.0019519,-0.0035942,0.00044209,-0.00116587,0.00028967,4.541e-05],\"type\":\"scatter\",\"xaxis\":\"x\",\"yaxis\":\"y\"},{\"line\":{\"color\":\"red\",\"width\":3},\"name\":\"actual\",\"x\":[\"2023-06-20T03:30:00\",\"2023-06-30T13:45:00\",\"2023-07-11T00:00:00\",\"2023-07-21T10:15:00\",\"2023-07-31T20:30:00\",\"2023-08-11T06:45:00\",\"2023-08-21T17:00:00\",\"2023-09-01T03:15:00\",\"2023-09-11T13:30:00\",\"2023-09-21T23:45:00\",\"2023-10-02T10:00:00\",\"2023-10-12T20:15:00\",\"2023-10-23T06:30:00\",\"2023-11-02T16:45:00\",\"2023-11-13T03:00:00\",\"2023-11-23T13:15:00\",\"2023-12-03T23:30:00\",\"2023-12-14T09:45:00\",\"2023-12-24T20:00:00\",\"2024-01-04T06:15:00\",\"2024-01-14T16:30:00\",\"2024-01-25T02:45:00\",\"2024-02-04T13:00:00\",\"2024-02-14T23:15:00\",\"2024-02-25T09:30:00\",\"2024-03-06T19:45:00\",\"2024-03-17T06:00:00\",\"2024-03-27T16:15:00\",\"2024-04-07T02:30:00\",\"2024-04-17T12:45:00\",\"2024-04-27T23:00:00\",\"2024-05-08T09:15:00\",\"2024-05-18T19:30:00\",\"2024-05-29T05:45:00\"],\"y\":[-0.00039624,-0.02909285,0.00066454,0.0012374,0.0015759,-0.00026972,0.00105169,-0.00024061,0.00022415,-0.00084877,0.00097138,0.00153671,-0.00435854,0.00418548,-0.00112157,0.00195958,-0.00678072,0.00148544,0.00022687,-0.00115252,-0.00097014,-0.00088228,-0.00118965,-0.00039253,0.00038115,-0.00679583,0.00242508,-0.0042495,0.00184254,-0.00323252,0.0004271,-0.0014427,0.00047816,0.00014583],\"type\":\"scatter\",\"xaxis\":\"x\",\"yaxis\":\"y\"}],                        {\"template\":{\"data\":{\"pie\":[{\"automargin\":true,\"type\":\"pie\"}],\"scatter3d\":[{\"line\":{\"width\":3},\"marker\":{\"size\":9},\"type\":\"scatter3d\"}],\"scattergeo\":[{\"line\":{\"width\":3},\"marker\":{\"size\":9},\"type\":\"scattergeo\"}],\"scattergl\":[{\"line\":{\"width\":3},\"marker\":{\"size\":9},\"type\":\"scattergl\"}],\"scatterpolargl\":[{\"line\":{\"width\":3},\"marker\":{\"size\":9},\"type\":\"scatterpolargl\"}],\"scatterpolar\":[{\"line\":{\"width\":3},\"marker\":{\"size\":9},\"type\":\"scatterpolar\"}],\"scatter\":[{\"line\":{\"width\":3},\"marker\":{\"size\":9},\"type\":\"scatter\"}],\"scatterternary\":[{\"line\":{\"width\":3},\"marker\":{\"size\":9},\"type\":\"scatterternary\"}],\"table\":[{\"cells\":{\"height\":30},\"header\":{\"height\":36},\"type\":\"table\"}]},\"layout\":{\"font\":{\"size\":18},\"xaxis\":{\"title\":{\"standoff\":15}},\"yaxis\":{\"title\":{\"standoff\":15}}}},\"xaxis\":{\"anchor\":\"y\",\"domain\":[0.0,0.94],\"title\":{\"text\":\"\"},\"showgrid\":false},\"yaxis\":{\"anchor\":\"x\",\"domain\":[0.0,1.0],\"title\":{\"text\":\"\"},\"tickformat\":\".2%\"},\"yaxis2\":{\"anchor\":\"x\",\"overlaying\":\"y\",\"side\":\"right\"},\"title\":{\"text\":\"Crypto:BTC, actual vs forecast 1-period ahead price % for 34 cv sets\"},\"font\":{\"size\":12},\"legend\":{\"orientation\":\"h\",\"yanchor\":\"top\",\"title\":{\"text\":\"\"}},\"width\":1500,\"height\":500,\"showlegend\":true},                        {\"responsive\": true}                    ).then(function(){\n",
       "                            \n",
       "var gd = document.getElementById('73263a1d-cb34-4408-8dd3-de307e0939e5');\n",
       "var x = new MutationObserver(function (mutations, observer) {{\n",
       "        var display = window.getComputedStyle(gd).display;\n",
       "        if (!display || display === 'none') {{\n",
       "            console.log([gd, 'removed!']);\n",
       "            Plotly.purge(gd);\n",
       "            observer.disconnect();\n",
       "        }}\n",
       "}});\n",
       "\n",
       "// Listen for the removal of the full notebook cells\n",
       "var notebookContainer = gd.closest('#notebook-container');\n",
       "if (notebookContainer) {{\n",
       "    x.observe(notebookContainer, {childList: true});\n",
       "}}\n",
       "\n",
       "// Listen for the clearing of the current output cell\n",
       "var outputEl = gd.closest('.output');\n",
       "if (outputEl) {{\n",
       "    x.observe(outputEl, {childList: true});\n",
       "}}\n",
       "\n",
       "                        })                };                });            </script>        </div>"
      ]
     },
     "metadata": {},
     "output_type": "display_data"
    }
   ],
   "source": [
    "fig['BTC']#.keys()#['NULL']"
   ]
  },
  {
   "cell_type": "markdown",
   "id": "266962d3-cd05-43c1-a917-adc03d01962d",
   "metadata": {},
   "source": [
    "### Model training on historical"
   ]
  },
  {
   "cell_type": "code",
   "execution_count": null,
   "id": "c8670e54-eb77-4928-bbf2-239950639c04",
   "metadata": {},
   "outputs": [],
   "source": [
    "from sklearn.ensemble import RandomForestRegressor\n",
    "\n",
    "def train_model(df, endog,**args):\n",
    "\n",
    "    EXOG = [i for i in df.columns if i != endog]\n",
    "\n",
    "    x_train = np.array(df[EXOG])\n",
    "    y_train = np.array(df[endog].values)\n",
    "    assert len(x_train) == len(y_train)\n",
    "    \n",
    "    regressor = RandomForestRegressor(**args, oob_score=True)\n",
    "    regressor.fit(x_train, y_train)\n",
    "\n",
    "    return regressor\n",
    "\n",
    "random_forest_trained = {}\n",
    "selected_params = {'n_estimators':30,'random_state':0}\n",
    "for crypto in CRYPTOS:\n",
    "    df=features.crypto_modelling[crypto][[ENDOG]+SELECTED_FEATURES_PCA]\n",
    "    regressor = train_model(df,endog ='close%',**selected_params)\n",
    "    random_forest_trained[crypto] = regressor\n"
   ]
  },
  {
   "cell_type": "markdown",
   "id": "19b0fa4c-1d12-4d29-84d9-c140dfc770bd",
   "metadata": {},
   "source": [
    "### Optimal portfolio selection"
   ]
  },
  {
   "cell_type": "markdown",
   "id": "5cebffc7-1ad8-4372-85c4-129ff8aaee9c",
   "metadata": {},
   "source": [
    "#### Get latest data"
   ]
  },
  {
   "cell_type": "code",
   "execution_count": 28,
   "id": "251bbde7-5273-4d2f-9156-5ce1199cfd0c",
   "metadata": {},
   "outputs": [],
   "source": [
    "import time\n",
    "from optimal_portfolio import *\n",
    "\n",
    "download_new = False\n",
    "\n",
    "if download_new is True:\n",
    "    new_data_all = {}\n",
    "    for crypto in CRYPTOS:\n",
    "        try:\n",
    "            df = get_latest_data(crypto)\n",
    "            \n",
    "            #final adj\n",
    "            df = df.groupby('timestamp').mean()\n",
    "        \n",
    "            new_data_all[crypto] = df.copy() #add_features.crypto_added_features.copy()\n",
    "            \n",
    "        except Exception as e:\n",
    "            print(f'Unable to retrieve data for {crypto}')\n",
    "    \n",
    "    with open('output/new_data_all.pickle', 'wb') as handle:\n",
    "            pickle.dump(new_data_all, handle, protocol=pickle.HIGHEST_PROTOCOL)\n",
    "else:\n",
    "    with open('output/new_data_all.pickle', 'rb') as handle:\n",
    "        new_data_all = pickle.load(handle)\n",
    "\n",
    "    \n",
    "#combine for a common timeframe for trading test\n",
    "combined_close = None\n",
    "for crypto, df in new_data_all.items():\n",
    "    _df = df[['close']].rename(columns = {'close':crypto})\n",
    "    combined_close = _df if combined_close is None else combined_close.merge(_df,how='outer',left_index=True,right_index=True)\n",
    "combined_close = combined_close.drop(columns=['OMG','TOMO','WAVES','PERL','XMR','TFUEL']).T.dropna(how = 'all',axis=1).T\n",
    "final_cryptos = list(combined_close.columns)\n",
    "final_index = list(combined_close.index)\n"
   ]
  },
  {
   "cell_type": "code",
   "execution_count": 29,
   "id": "1309591e-589e-4065-9c52-b4845fa375e4",
   "metadata": {},
   "outputs": [
    {
     "ename": "NameError",
     "evalue": "name 'random_forest_trained' is not defined",
     "output_type": "error",
     "traceback": [
      "\u001b[0;31m---------------------------------------------------------------------------\u001b[0m",
      "\u001b[0;31mNameError\u001b[0m                                 Traceback (most recent call last)",
      "Cell \u001b[0;32mIn[29], line 16\u001b[0m\n\u001b[1;32m     13\u001b[0m average_price[crypto] \u001b[38;5;241m=\u001b[39m price\n\u001b[1;32m     15\u001b[0m x_test \u001b[38;5;241m=\u001b[39m np\u001b[38;5;241m.\u001b[39marray(new_data[SELECTED_FEATURES_PCA])\n\u001b[0;32m---> 16\u001b[0m predicted \u001b[38;5;241m=\u001b[39m \u001b[43mrandom_forest_trained\u001b[49m[crypto]\u001b[38;5;241m.\u001b[39mpredict(x_test)\n\u001b[1;32m     17\u001b[0m predicted_return[crypto]\u001b[38;5;241m=\u001b[39mpredicted\n\u001b[1;32m     19\u001b[0m modelling_new[crypto]\u001b[38;5;241m=\u001b[39mnew_data \u001b[38;5;66;03m#period, x_test,\u001b[39;00m\n",
      "\u001b[0;31mNameError\u001b[0m: name 'random_forest_trained' is not defined"
     ]
    }
   ],
   "source": [
    "# adjust the new data, add features, use trained model to predict price & calculate average to be used \n",
    "modelling_new = {}\n",
    "average_price = {}\n",
    "predicted_return = {} \n",
    "\n",
    "for crypto in final_cryptos:\n",
    "    df = new_data_all[crypto].reindex(final_index)\n",
    "    add_features = FeatureCrypto(raw_df=df)\n",
    "    add_features.run()\n",
    "    new_data = add_features.crypto_added_features.dropna(axis=0)\n",
    "\n",
    "    price = new_data[['open','high','low']].mean(axis=1)\n",
    "    average_price[crypto] = price\n",
    "    \n",
    "    x_test = np.array(new_data[SELECTED_FEATURES_PCA])\n",
    "    predicted = random_forest_trained[crypto].predict(x_test)\n",
    "    predicted_return[crypto]=predicted\n",
    "    \n",
    "    modelling_new[crypto]=new_data #period, x_test,\n",
    "    \n",
    "    assert len(new_data) == len(predicted) == len(price)\n",
    "\n",
    "iteration_timeframe = list(new_data.index)"
   ]
  },
  {
   "cell_type": "code",
   "execution_count": null,
   "id": "e4a7ce61-0d95-4fb3-a7af-cefae2721ccc",
   "metadata": {},
   "outputs": [],
   "source": [
    "#get covariance matrix from historical last overlapping data\n",
    "df_all = None\n",
    "for crypto, df in crypto_resampled[freq].items():\n",
    "    _df =  crypto_resampled[freq][crypto][['close%']].rename(columns = {'close%':crypto})\n",
    "    df_all = _df if df_all is None else df_all.merge(_df,left_index=True,right_index=True,how='outer')\n",
    "    \n",
    "df_all = df_all[final_cryptos].dropna()[-1000:]\n",
    "cov_matrix = df_all.cov()\n",
    "\n",
    "#place predicted returns in ok format for script\n",
    "predicted_returns_all = None \n",
    "for crypto  in final_cryptos:\n",
    "    assert len(predicted_return[crypto]) == len(iteration_timeframe), crypto\n",
    "    _df = pd.DataFrame(predicted_return[crypto],iteration_timeframe,columns=[crypto])\n",
    "    predicted_returns_all = _df if predicted_returns_all is None else predicted_returns_all.merge(_df,how='outer',left_index=True,right_index=True)\n",
    "\n",
    "assert np.sum(predicted_returns_all.columns != cov_matrix.columns) == 0\n"
   ]
  },
  {
   "cell_type": "code",
   "execution_count": null,
   "id": "8820026a-5084-4fd9-b6bf-a2d8bb72951e",
   "metadata": {},
   "outputs": [],
   "source": [
    "# def adder_factory(n):\n",
    "    \n",
    "#     def add_fn(x):\n",
    "#         return x + n\n",
    "\n",
    "#     return add_fn\n",
    "\n",
    "# f1 = adder_factory(n=1)\n",
    "\n",
    "# f2 = adder_factory('sdasd')\n",
    "# f2('afsasf')"
   ]
  },
  {
   "cell_type": "code",
   "execution_count": null,
   "id": "99a63806-3622-4fa3-a5e5-20ace8478312",
   "metadata": {},
   "outputs": [],
   "source": [
    "initial_investment = 10_000\n",
    "cash = initial_investment\n",
    "crypto_holdings = {crypto: 0 for crypto in final_cryptos}\n",
    "portfolio_value = [initial_investment]\n",
    "transaction_fee = 0.0025\n",
    "\n",
    "results = pd.DataFrame(columns=['Date', 'Portfolio_Value'])\n",
    "previous_optimal_weights = np.array([1/len(final_cryptos)] * len(final_cryptos))\n",
    "\n",
    "# DataFrames to store buy and sell volumes\n",
    "buy_volumes_df = pd.DataFrame(columns=final_cryptos)\n",
    "sell_volumes_df = pd.DataFrame(columns=final_cryptos)\n",
    "\n",
    "#change iteration time frame to 1 hour\n",
    "# iteration_timeframe = [i for i in iteration_timeframe if ':45:00' in str(i) ]\n",
    "\n",
    "for timestamp in iteration_timeframe:\n",
    "    # Mean returns and covariance matrix for the predicted period\n",
    "    mean_returns = predicted_returns_all.loc[timestamp]\n",
    "    \n",
    "    # Calculate optimal weights\n",
    "    optimal_weights = get_optimal_weights(mean_returns, cov_matrix)    \n",
    "    \n",
    "    buy_volumes = {}\n",
    "    sell_volumes = {}\n",
    "    for j, crypto in enumerate(final_cryptos):\n",
    "        weight_change = optimal_weights[j] - previous_optimal_weights[j]\n",
    "        \n",
    "        if weight_change > 0:\n",
    "            # Buy transaction\n",
    "            amount_to_invest = cash * weight_change\n",
    "            if np.isnan(amount_to_invest):\n",
    "                print(f\"NaN value encountered in amount_to_invest for {crypto}. Skipping this transaction.\")\n",
    "                continue\n",
    "            cash -= amount_to_invest * (1 + transaction_fee)\n",
    "            price = average_price[crypto][timestamp] #get_latest_price(crypto)\n",
    "            buy_volume = amount_to_invest / price\n",
    "            crypto_holdings[crypto] += buy_volume\n",
    "            buy_volumes[crypto] = buy_volume\n",
    "        elif weight_change < 0:\n",
    "            # Sell transaction\n",
    "            amount_to_sell = crypto_holdings[crypto] * -weight_change\n",
    "            if np.isnan(amount_to_sell):\n",
    "                print(f\"NaN value encountered in amount_to_sell for {crypto}. Skipping this transaction.\")\n",
    "                continue\n",
    "            price = average_price[crypto][timestamp] #get_latest_price(crypto)\n",
    "            cash += amount_to_sell * price * (1 - transaction_fee)\n",
    "            sell_volume = amount_to_sell\n",
    "            crypto_holdings[crypto] -= sell_volume\n",
    "            sell_volumes[crypto] = sell_volume\n",
    "    \n",
    "    # Print buy and sell volumes for the current period\n",
    "    if buy_volumes:\n",
    "        print(f\"Buy Volumes - {buy_volumes}\")\n",
    "        buy_volumes_df = pd.concat([buy_volumes_df, pd.DataFrame(buy_volumes,index=[1])],ignore_index=True)\n",
    "        \n",
    "    if sell_volumes:\n",
    "        print(f\"Sell Volumes - {sell_volumes}\")\n",
    "        sell_volumes_df = pd.concat([sell_volumes_df, pd.DataFrame(sell_volumes,index=[1])],ignore_index=True)\n",
    "    \n",
    "    # # Update the previous optimal weights\n",
    "    previous_optimal_weights = optimal_weights\n",
    "    \n",
    "    # # Calculate current portfolio value\n",
    "    portfolio_val = cash + sum(crypto_holdings[crypto] * get_latest_price(crypto) for crypto in final_cryptos)\n",
    "    portfolio_value.append(portfolio_val)\n",
    "    \n",
    "    # # Store results\n",
    "    new_row = pd.DataFrame({'Date': [timestamp], 'Portfolio_Value': [portfolio_val]})\n",
    "    results = pd.concat([results, new_row], ignore_index=True)\n",
    "\n"
   ]
  },
  {
   "cell_type": "code",
   "execution_count": 38,
   "id": "bd5f0a50-c560-4006-9b57-cfff340e8199",
   "metadata": {},
   "outputs": [],
   "source": [
    "with open('output/portfolio_values.pickle', 'rb') as handle:\n",
    "    portfolio_values = pickle.load(handle)\n",
    "\n",
    "key = 'latest_data_one_hour' #latest_data\n",
    "results = portfolio_values[key][1]#results  latest_data\n",
    "iteration_timeframe  = portfolio_values[key][0] #timestamp"
   ]
  },
  {
   "cell_type": "code",
   "execution_count": 39,
   "id": "12c50bcd-7a49-4d06-9cef-823679397e93",
   "metadata": {},
   "outputs": [
    {
     "data": {
      "application/vnd.jupyter.widget-view+json": {
       "model_id": "a00f2beea4314b21a04a2d233a14c43e",
       "version_major": 2,
       "version_minor": 0
      },
      "text/plain": [
       "interactive(children=(Dropdown(description='relative_to', options=('BTC', 'ADA', 'ETH'), value='BTC'), Checkbo…"
      ]
     },
     "metadata": {},
     "output_type": "display_data"
    }
   ],
   "source": [
    "@interact\n",
    "def compare(relative_to = ['BTC','ADA','ETH'],change = True):\n",
    "    \n",
    "    one_crypto =new_data_all[relative_to].reindex(iteration_timeframe)[['close']]\n",
    "    one_crypto = one_crypto.pct_change() if change is True else one_crypto\n",
    "    std_coin = np.round(np.std(one_crypto)[0]*100,3)\n",
    "    mean_return = np.round(np.mean(one_crypto)*100,3)\n",
    "    \n",
    "    portoflio = pd.DataFrame(results['Portfolio_Value'].values,iteration_timeframe,columns =['Portfolio value'])\n",
    "    portoflio = portoflio.pct_change() if change is True else portoflio\n",
    "    std_portoflio = np.round(np.std(portoflio)[0]*100,3)\n",
    "    mean_return_p = np.round(np.mean(portoflio)*100,3)\n",
    "    \n",
    "    fig = make_subplots(specs=[[{\"secondary_y\": True}]])\n",
    "    \n",
    "    fig.add_trace(go.Scatter(y =portoflio['Portfolio value']\n",
    "                                ,x = portoflio.index\n",
    "                                , name = 'portfolio'\n",
    "                                ,marker_color = 'red'\n",
    "                            ),secondary_y = False)\n",
    "    \n",
    "    fig.add_trace(go.Scatter(y =one_crypto['close']\n",
    "                                ,x = one_crypto.index\n",
    "                                , name = relative_to\n",
    "                                ,marker_color = 'blue'\n",
    "                            ),secondary_y = False if change is True else True)\n",
    "    \n",
    "    title = f'Portfolio overview ({\"change\" if change is True else \"level\"}) vs {relative_to}' \n",
    "    title += f'<br>Portoflio: mean return {mean_return_p},std {std_portoflio}, Coin: mean return {mean_return} ,std {std_coin}' if change is True else ''\n",
    "    yaxis = {'title':'portfolio','tickformat':\".2%\",'showgrid':False} if change is True else {'title':'','showgrid':False}\n",
    "    \n",
    "    fig.update_layout(template='presentation'\n",
    "                      ,title=title\n",
    "                      ,height=500\n",
    "                      ,width=1500\n",
    "                      ,yaxis=yaxis\n",
    "                      ,xaxis={'title':''}\n",
    "                      ,font_size=12\n",
    "                      ,legend=dict(\n",
    "                        orientation=\"h\",\n",
    "                    )\n",
    "                      ,showlegend=True).update_yaxes(tickformat= \"\" ,secondary_y = True)\n",
    "    \n",
    "    return  fig.show()\n"
   ]
  },
  {
   "cell_type": "code",
   "execution_count": null,
   "id": "11b3545c-c00d-48b2-9e67-99c70b93633c",
   "metadata": {},
   "outputs": [],
   "source": [
    "# portfolio_values['latest_data_one_hour'] = [iteration_timeframe,results,sell_volumes_df,buy_volumes_df]"
   ]
  },
  {
   "cell_type": "code",
   "execution_count": null,
   "id": "9f157d3a-19ee-4d10-ba7c-90b40a009dfd",
   "metadata": {},
   "outputs": [],
   "source": [
    "# portfolio_values = {'latest_data':[iteration_timeframe,results,sell_volumes_df,buy_volumes_df]} #timeframe, results\n",
    "# with open('output/portfolio_values.pickle', 'wb') as handle:\n",
    "#     pickle.dump(portfolio_values, handle, protocol=pickle.HIGHEST_PROTOCOL)"
   ]
  }
 ],
 "metadata": {
  "kernelspec": {
   "display_name": "crypto_project",
   "language": "python",
   "name": "crypto_project"
  },
  "language_info": {
   "codemirror_mode": {
    "name": "ipython",
    "version": 3
   },
   "file_extension": ".py",
   "mimetype": "text/x-python",
   "name": "python",
   "nbconvert_exporter": "python",
   "pygments_lexer": "ipython3",
   "version": "3.10.14"
  }
 },
 "nbformat": 4,
 "nbformat_minor": 5
}
